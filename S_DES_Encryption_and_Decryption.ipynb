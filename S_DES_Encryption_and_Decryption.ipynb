{
  "nbformat": 4,
  "nbformat_minor": 0,
  "metadata": {
    "colab": {
      "name": "S_DES Encryption and Decryption.ipynb",
      "provenance": []
    },
    "kernelspec": {
      "name": "python3",
      "display_name": "Python 3"
    },
    "language_info": {
      "name": "python"
    }
  },
  "cells": [
    {
      "cell_type": "markdown",
      "source": [
        "# **S-DES Encryption and Decryption**"
      ],
      "metadata": {
        "id": "8QlbEcYolwdO"
      }
    },
    {
      "cell_type": "markdown",
      "source": [
        "**Name :** N V Abhiram Naidu Kankipati\n",
        "\n",
        "**UIN :** 01184477\n",
        "\n",
        "**Email :** nkank001@odu.edu\n",
        "\n",
        "**Course :** Network Systems Security\n",
        "\n",
        "**Assignment :** Extra Credit 1"
      ],
      "metadata": {
        "id": "amlvZ8GLrSkd"
      }
    },
    {
      "cell_type": "markdown",
      "source": [
        "## **Importing Libraries**"
      ],
      "metadata": {
        "id": "LhsYqjbql9FC"
      }
    },
    {
      "cell_type": "code",
      "execution_count": 64,
      "metadata": {
        "colab": {
          "base_uri": "https://localhost:8080/"
        },
        "id": "As9sOrgmf5tA",
        "outputId": "3da1f8d0-1b88-4afb-902d-3e6f8f926700"
      },
      "outputs": [
        {
          "output_type": "stream",
          "name": "stdout",
          "text": [
            "Looking in indexes: https://pypi.org/simple, https://us-python.pkg.dev/colab-wheels/public/simple/\n",
            "Requirement already satisfied: pycrypto in /usr/local/lib/python3.7/dist-packages (2.6.1)\n"
          ]
        }
      ],
      "source": [
        "!pip install pycrypto\n",
        "from Crypto.Cipher import DES"
      ]
    },
    {
      "cell_type": "markdown",
      "source": [
        "## **S-DES algorithm**"
      ],
      "metadata": {
        "id": "I8OObkE0f_hR"
      }
    },
    {
      "cell_type": "code",
      "source": [
        "def sdes_algo(key):\n",
        "  '''This function is for returning S-DES algorithm \n",
        "  from cipher module which is part of crypto library\n",
        "  \n",
        "  The S_DES algorithm will be using an input key for \n",
        "  performing encrypting and decrypting.\n",
        "\n",
        "  usage: sdes_algo(10011001)'''\n",
        "  \n",
        "  return DES.new(key, DES.MODE_ECB)"
      ],
      "metadata": {
        "id": "RkMxEdolgyg9"
      },
      "execution_count": 65,
      "outputs": []
    },
    {
      "cell_type": "code",
      "source": [
        "sdes_algo.__doc__"
      ],
      "metadata": {
        "colab": {
          "base_uri": "https://localhost:8080/",
          "height": 53
        },
        "id": "Zok5L3OFm0rl",
        "outputId": "3e958404-f8e5-4b89-c4b7-c455a0dd4243"
      },
      "execution_count": 66,
      "outputs": [
        {
          "output_type": "execute_result",
          "data": {
            "text/plain": [
              "'This function is for returning S-DES algorithm \\n  from cipher module which is part of crypto library\\n  \\n  The S_DES algorithm will be using an input key for \\n  performing encrypting and decrypting.\\n\\n  usage: sdes_algo(10011001)'"
            ],
            "application/vnd.google.colaboratory.intrinsic+json": {
              "type": "string"
            }
          },
          "metadata": {},
          "execution_count": 66
        }
      ]
    },
    {
      "cell_type": "markdown",
      "source": [
        "## **Encryption with S-DES**"
      ],
      "metadata": {
        "id": "-b1z0utknlZz"
      }
    },
    {
      "cell_type": "code",
      "source": [
        "def encrypted_text(text,key):\n",
        "  '''This function is to return a encrypted text based on \n",
        "  the text we need to encrypt and key with which we are \n",
        "  encrypting\n",
        "  \\n\n",
        "  usage: encrypted_text(11011101,10011001)'''\n",
        "\n",
        "  des = sdes_algo(key)\n",
        "  print('\\n------------------encryption-------------')\n",
        "  encrypt = des.encrypt(text)\n",
        "  print('encrypted word is ',encrypt)\n",
        "  return encrypt"
      ],
      "metadata": {
        "id": "fQelacoZgE_E"
      },
      "execution_count": 67,
      "outputs": []
    },
    {
      "cell_type": "code",
      "source": [
        "encrypted_text.__doc__"
      ],
      "metadata": {
        "colab": {
          "base_uri": "https://localhost:8080/",
          "height": 35
        },
        "id": "3F3IaiCKotAB",
        "outputId": "4424a0c5-5727-4ed5-b69b-23fa3dcfa2fa"
      },
      "execution_count": 75,
      "outputs": [
        {
          "output_type": "execute_result",
          "data": {
            "text/plain": [
              "'This function is to return a encrypted text based on \\n  the text we need to encrypt and key with which we are \\n  encrypting\\n  \\n  usage: encrypted_text(11011101,10011001)'"
            ],
            "application/vnd.google.colaboratory.intrinsic+json": {
              "type": "string"
            }
          },
          "metadata": {},
          "execution_count": 75
        }
      ]
    },
    {
      "cell_type": "markdown",
      "source": [
        "## **Decryption with S-DES**"
      ],
      "metadata": {
        "id": "0MiLZ8A0nq3q"
      }
    },
    {
      "cell_type": "code",
      "source": [
        "def decrypted_text(encrypt_text,key):\n",
        "  '''This function is to return a decrypted text based on the \n",
        "  encrypted text we need to decrypt and key with which the \n",
        "  text is encrypted\n",
        "  \n",
        "  usage:decrypted_text(b'\\xd9\\xb1\\xcc$\\xa8\\tg\\xd2',10011001)\n",
        "  '''\n",
        "  des = sdes_algo(key)\n",
        "  print('\\n------------------decryption-------------')\n",
        "  decrypt = des.decrypt(encrypt_text)\n",
        "  print('decrypted word is ',decrypt)\n",
        "  return decrypt"
      ],
      "metadata": {
        "id": "B-v-FpAcgPeY"
      },
      "execution_count": 76,
      "outputs": []
    },
    {
      "cell_type": "code",
      "source": [
        "decrypted_text.__doc__"
      ],
      "metadata": {
        "colab": {
          "base_uri": "https://localhost:8080/",
          "height": 35
        },
        "id": "5-QDH9A9oxaM",
        "outputId": "b000e5b8-07b5-4374-c31f-5ae8f97acd2d"
      },
      "execution_count": 77,
      "outputs": [
        {
          "output_type": "execute_result",
          "data": {
            "text/plain": [
              "\"This function is to return a decrypted text based on the \\n  encrypted text we need to decrypt and key with which the \\n  text is encrypted\\n  \\n\\n  usage:decrypted_text(b'Ù±Ì$¨\\tgÒ',10011001)\\n  \""
            ],
            "application/vnd.google.colaboratory.intrinsic+json": {
              "type": "string"
            }
          },
          "metadata": {},
          "execution_count": 77
        }
      ]
    },
    {
      "cell_type": "markdown",
      "source": [
        "## **Main function for using Encryption and Decryption with S-DES**"
      ],
      "metadata": {
        "id": "TL8E6VPpntS6"
      }
    },
    {
      "cell_type": "code",
      "source": [
        "def main():\n",
        "  '''The input for t and k is in bytes'''\n",
        "  \n",
        "  t=input('text in bytes : ')\n",
        "  k=input('key in bytes : ')\n",
        "  #encrytping text 't' with key 'k'\n",
        "  encrypt_text=encrypted_text(t,k)\n",
        "  decrypted_text(encrypt_text,k)\n"
      ],
      "metadata": {
        "id": "09f6Zlxqh52x"
      },
      "execution_count": 71,
      "outputs": []
    },
    {
      "cell_type": "code",
      "source": [
        "main()"
      ],
      "metadata": {
        "colab": {
          "base_uri": "https://localhost:8080/"
        },
        "id": "25Zj_l5ojqp4",
        "outputId": "b3589ab0-89fe-4c28-d4e8-3dc9eee56fb8"
      },
      "execution_count": 72,
      "outputs": [
        {
          "output_type": "stream",
          "name": "stdout",
          "text": [
            "text in bytes : 10010101\n",
            "key in bytes : 01001101\n",
            "\n",
            "------------------encryption-------------\n",
            "encrypted word is  b'\\xe9\\xb3\\x8a\\x94\\x9d\\x86PE'\n",
            "\n",
            "------------------decryption-------------\n",
            "decrypted word is  b'10010101'\n"
          ]
        }
      ]
    },
    {
      "cell_type": "markdown",
      "source": [
        "## **Examples**"
      ],
      "metadata": {
        "id": "rOSmeChHp-yJ"
      }
    },
    {
      "cell_type": "markdown",
      "source": [
        "### Example 1:"
      ],
      "metadata": {
        "id": "G0MmePw4qCgR"
      }
    },
    {
      "cell_type": "markdown",
      "source": [
        "![image.png](data:image/png;base64,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)"
      ],
      "metadata": {
        "id": "qJ-ujChqqI6_"
      }
    },
    {
      "cell_type": "markdown",
      "source": [
        "### Example 2:"
      ],
      "metadata": {
        "id": "ZYIW40SbqKif"
      }
    },
    {
      "cell_type": "markdown",
      "source": [
        "![image.png](data:image/png;base64,iVBORw0KGgoAAAANSUhEUgAAAYoAAACTCAYAAACQ0F73AAAAAXNSR0IArs4c6QAAAARnQU1BAACxjwv8YQUAAAAJcEhZcwAADsMAAA7DAcdvqGQAACG2SURBVHhe7Z1trFVH1ceHR8ACRV4VhEJT2lDeaoBSewExehFIaUOVENIvliZgICRIipEmRuGBxH7gAw2QGGhA5VMJEqzYoISCNgSqlSpU3qSRKgSUlLeGAimgfZ7f9KzD3N29Z+97zj3cc+H/S07uPXv2vM+stWbtfWbaNTQ0fOyEEEKIDP6n9FcIIYRIRYpCCCFEFCkKIYQQUdqsoliwYIHbsGGDmzlzZulK9ZDWihUrXP/+/UtXhBBCRBXF0qVLvUCuBbVMuzVpy/Wi7OvWrXOTJk0qXbkF1wjjnjRiitvC+KxZs8YNHz68FOK8UkY5W3ha+rG8q01bCJFPm11RIBRmz57tNm/eXLoiKgXhSnt++OGH7vr166Wrt0AYI6zPnTtXunILE8Zdu3Z1V69eLV29BYpj8ODBbuXKlb6/SGPWrFnlVducOXPclStXfBj39O7du4mijeVdbdpCiGJ85r777vvf0v9lmExz58513bp1c3379nVPP/20/4waNcq98cYb/h6Ey5IlS9yMGTN82P333+/eeustH4blxvWTJ0+6999/30/0F154wT3wwAPu8ccfz007Rpjvk08+6T766CN34sSJUugnZSePJ554wj377LM+7XvuuccdPny4dEc2pN2vXz9fToRMWC/LF4FoaYXXGhsbq2ozsHa3uEXLbYTtHKabx3e+8x33u9/9zp09e9Y9/PDD7m9/+1u5TUmT9Cj3hAkT/LWwn5577jn37rvvuj179rgxY8b4PrcyI7CnT5/u3nvvPffaa6/5ax07dnQjRoxwFy5ccA8++KBvn9dff93nx1h56KGH3IABA9yRI0dcQ0NDZt7Vpn358mUfRwiRT+qKwqx1Jv2BAwf8/3yWLVvmw5mkWG7Hjx8vW2tYduZ2WL9+vbt27ZoXiNyLsDl06JBPNy/tPBBCCFTyTLNgYeTIkV5YkC55IMDMysyjV69e7t577/VxN23a5OtF+ckXi3Xo0KGlOz8R/EBYtW1GHoMGDSpbx3xu12rpxRdfdDt37ix9awrXCc+CemeVs3v37q5Dhw7u2LFj/jvtNW3aNNe5c2fXo0cP/2GcILiBtqDvOnXq5OPG8q42bSFEcSpyPQ0bNszduHHDbd261X9HUCIATYiePn3abdy40U/IZ555xl+ze28HCGsEGCBIEChFhcP58+e9ogOEDMJmyJAh/vu+fft8OqYgqC/1Ngs6Rl6bAULO0q4EBCsrEqt7vcDKCPfUokWL/MqD/unTp08p1LnRo0f7ZxCsGl555RV38+ZNv7IrQi3TFkJ8QkWKAmsN98ry5cvLDwqx1kIQhG+++aa3mhFgKI+2BmXGx22gOBD2CHM+Xbp0cbt37y6FxslrM9po165dbsqUKT4M4Vd0FVTPtG/f3n3zm990+/fv96ukvXv3+nbDzQWs4CZPnuxWr17tV4rt2rXz18+cOeP/xqhl2kKIW1T8MBvLG9+xuUn4hO4jXCljx451b7/9tncJVGMptxYI6lDwoDhOnTrlVwHUByVSZDVh5LUZLhy7TtoLFy5s08ri0qVLfkWGK87cU+Yyunjxov/gPty2bVu5HVGoKGPixqhl2kKIpkQVBX5+Hv4lhRUTD18vDxPT4H4UBQ8RX375Ze/b53lFSFba9cT48eN9PUNlwAoCgYQSxBWVpNI2S0I6zYU2x82C9VwPmGLlATNlg8bGRi+sWZ2Za48w2osPz5OIk7cCrWXaQoimRDcFZHJh1bKEB/y/ZgFjUc+bN8/71Y0dO3b45T9xYNWqVX5SMllRFCz5w4e7WWnH4KEk7pkQ/M5btmzx7huEZM+ePctpkffUqVP9c4dQ4KeRTBuLdO3atZ+Kx1tdrDSsfiGVtBkWMeUOXVFZecewdrYXB4qSzBusTemzZJnB6pXWH2D1gjB9VlVhuyXbixWClT2tvSBs00rTFkIUR7vHVgCKAotfQkcIcTdQ8TOKuxUsaH64VfQhthBCtHW0oiiIuVhCN5cQQtwNSFEIIYSIIteTEEKIKFIUQgghokhRCCGEiCJFIYQQIkqqouCHSuw1xI+ZWgt+PBY7KKcSrF68wSSEEKIYWlE0E5RMW92wD8XPhoNpitLC+PBDwuTeXDHFTXoWl3u4Nwnx0sJMeVv8tPRjeeeVWwhRPXWrKGzL7CLbeog4JowrPYUOYYywTjtljuts4c3ZHcRl+5BwE0j+IsCzTs+r5Ql3QoiWoZCisMkeWmx2zaw5m9wmlMLJnnYtBpZjMl0D4UA417PuyYNN/azsVqe8cptVy4/u2DvItgsP28Tut3IlLeBkm3EvcYpi8dMs6xhsRMhW3L/61a9KV25B/myWF56rwWaHbGDIGRrUGwWzePHiVEE/btw4L6DtB4j2i3VrE07qYwfXd955x38PIW0Ug22uSP6UwzZVjOWdV24hRMuRqyiY8GzMxoREYDIpmaRZp7WxIRs7dIY7qDJxmcB2GlkerCJIl83f0hg4cKDf+I972HyOvE0wFeHRRx/1wsusUDbSyyu3rXDIL9wu3NoEQuuYcDYODBUP+Vib8UEAJjcVrAUoF9ugL4ltzZ11Uhz1zjpljnaijkePHi1/Z1wQ1w4Pip2eR/rs8MpOr8D4YYM/2pxyxfLOK7cQouWIKgqsOVMSCBsj77Q2rEomsVl2nBAXWp3VgqC2U+jIu7mnlnFAkJUFIYdVi6CpptzER2iyvQegALDik1uOp21BXhTqiuKphTsu76S4PFjlsMpC2bJLK4q8KLU84U4IUT1RRcEB9RxYn1wJYLHFTmtDoHE4DIIWoci9aWc31AMccINggmrKjWDr1q2bF1jWJsntt025WbthQdcDeSfF5UE92U2XuBgUKImi52ngxqvVCXdCiJYhqiiwDJMPJ42809qw1LGesRbB3Av1RvLUs2rKzYNie7Bqn9C9xF++c52HvxMnTmx1ZZF3UlwM6oOrDSveVpwo2KLCupYn3AkhWo7cZxQIgOTbJExq/Mix09qw7qCxsdEdPHjwtvjimwv1SZ56llduhFDaA1MUCgIueZJfFljMaQ+HY6Cs6Y/mPsyOQf2of9ZJcXmgWHlmZAov7VTALEi/VifcCSFajtTdY5mwnAzGREQw2XdcK7bFNkIr67Q2A1cCD5qbc1JbWrpgp5MhkBAmdpIZ9/MQefv27bnPEqweduIZWLoheeUm3Fxt4Ul0sfTT6pWWdwxLA8XdnOcUtFmlp9Bl9Ud4ylyYfvJkvjBdI9yqPdlmYZsUyTur3EKIlqOm24wzicNjSdsKbbXcQghRC3JdT5WCOwCrvF4fYmfRVssthBC1osVXFAha/PS8kZJ0RdUzbbXcQghRa3TCnRBCiCg1cz0JIYS4M5CiEEIIEUWKQgghRBQpCiGEEFGkKIQQQkSRohBCCBFFikIIIUQUKQohhBBRpCiEEEJEkaIQQggRRYpCCCFEFCkKIYQQUaQohBBCRJGiEEIIEUWKQgghRBQpCiGEEFGkKIQQQkSRohBCCBFFikIIIUQUKQohhBBRpCiEiLBgwQK3YcMGN3PmzNIVIe4+pCjEXUv//v3dihUrpASEyEGKQogIa9ascbNnz3abN28uXRHi7qNdQ0PDx6X/hagILPIpU6b4/2/evOm2bNnidu7c6b/juoGePXu6gQMH+v937NjRRPCG8eHAgQNeQGPxL1y40O3fv98NHTrUx7f0z5w54+bNm+f27NlTTmv48OHla3v37nXz5893Bw8edBMmTHCdO3d2V69edWvXrnWHDx92S5cuLZcnxPK2tIiXrJMRphHeQ9xZs2b5ck+cONG1b9/enT9/3q1atcqdPn3a3y9EW0IrClEVkyZN8oJ406ZN3vLetWuXmzZtmheWxsiRI92FCxd8OIJ4zJgxXgkASgJhavH5IKhDUCIWHwUxbtw4L+zPnTvnFYhheRIGHTp08Glv27bNx+X+GTNm+LBly5a5JUuWeAGO4krmTRoouZUrV3oFk4SwLl26+DSId+jQoSb17tSpk2+X1atX+zT4Pn78eB8mRFtDikJUxZAhQ9zx48fL1jaW/LVr15ooipMnT5YF8LFjx7wA7969u1cWKA2EbNJaDwnjHz161Ato4u7bt8+nY3mhNCiLKQpAcVnaYdxqIL/Bgwf7FYOtELZu3dqk3qwwUFCUxZRanz59fJgQbY32pb+fAksR64tlM4TLdki6C5JL6+TS3pb0UMu0zV3Rq1cv/x1CV0de3rVMO1avWqYN1dQrlra5lHgzqLkg5LG0z549W7qSDgLeoExWLqBdTDijBHD/xCA/8rV2qRQUwcWLF0vfms+dOIYhlndrjuG8vEUcPaMQVcHkxS1kEzYJLhqUCa4eYMJOnTrVrV+/3l26dMlPbixzm9AhNvmzwsHSR5mworB80uIiiFjBJJVzLH2U0Jw5c9z27dvLKxOuxZ6PIHyScfLaSYh6Rq4nURUI6BEjRngF0FwQ1qdOnfK+fFsVNJfdu3f7FcLYsWO9KyoL0icf8jMLlb9Xrlxp8pyjCCgCXEnhs5bGxkbvesL1JsSdhhSFqAosap4DPPPMM979xAeruajg516eKyxatKgc396UKgJCm5XJjRs33JEjR0pXb4ErgzRJn3ySFj2uqt69e38qb1YfFu9zn/ucr9+6devKCpGVC0pm+fLl/j6eWWzcuLGshIS4k5DrSbR50tw6RdxKQohiaEUh2jRY/qwIcEEJIWqDFIVok5hryH4nobdXhKgdcj0JIYSIohWFEEKIKFIUQgghokhRCCGEiCJFIYQQIooURQR+XPXSSy9V/KvhWsJvB5rzwzTgft4U4o2h2wV5UtYY/OaBA4SS99n121leozX7nvpSb/vVd71wp/ZHXnvXa38YtAm/IWquPGgOd6SiqPeOFcXgV878YK65W2wUwYQeipNP+KtrYI8mfvFdqWCyyWvph5MYhWjXw48JYLYB4Zfmw4YN899bkmS985R4yJ3aH3lU2x9F8uYaYUklXE1/tSRaUdxFMFg5O6Fef6nMr6uT8PsI9nIKhUZLgNBbvHhx+RyKtHM02Mcq3M+pKNzPwUVsGULanLXBflgmBNj+w/K1cHYztd1oKdu///1vf+5GSzN9+nS/3xX5ck4GP1ZsjtC8E/qDerPlSlIoZ1FNf+SNBcJRBF27dvVjIAmbS7JVTJH+ytuFuRo+c9999/1v6f8mUIEf/ehHfo+bp59+2o0aNcq98cYbPozO+/73v+969Ojhvvvd77pvfetb7itf+Yrfa+fy5cv+nmR8BhbnCrz//vteK37pS19yjz/+uJs7d64Pv+eee/wgpBHYDjhMK7z2xBNP+P+Jb3Hvv/9+99Zbb/k8XnjhBT8IOJns61//+qfyjtUL6ED29yGMDv3Pf/7jrSjixrA6UQ7D8qKdqJuVj/ZK5k2+DCja4Xvf+56/JwxPlrtbt25+8Ib5ZUF/ccAO7fbkk0+6jz76yJ04caIU+gm0sbUnH+uPaqGP2dr7a1/7mnv22WdT06afsRjT6kK70598wn6y9qBNbaxY31n6eX0d0q9fP/fggw+6P//5z+W+xoJtaGjwW1OH5c3Lm62wSesXv/iFT4u2fvTRR93nP//51Pzpk48//tj99Kc/LV1xXjggmP773/826SsbQw888EC5vRh79K2N8XAMJ9ubOBaPe7/85S/7/slqlyRZ/QHJciTLWi/9weehhx7y18mf+UF+lBPBTNlMphiV9gf9HhsLzz33nHv33Xf9rsMoQeJY3UibNnr99dd9PCv3gAEDmshHrv/mN79p0iYtTeaKItRkCBn2+g81GYMr6wQvOo59diw+H+KGFeHUM7aHJox95c1S4GAb0rJlHtdomHDXTzrY4qKhGbQ0KsIGYcc+9Oxlb6ePhXnH6kUa4Wlt/OXcgSJgDVOmLBiMWEhYSqSdZh2wl/7kyZN9m5I34ZQJwnLzYUAVhbqTD3mmWS3kMWjQIB9u6bfkqoP+on1Il75p7m6xjAms2DAOY4FN+BgrWMmEkW54BkHeGA7hACYEUThGyYNxl3S15OXNAUXsLmtpkSdtkHZoEnFp++TOt8SlPJQrhDHOGLIdexGIjBM7W4H0/t/4K/djJe2dR1p/AFvHs4MuQpJ6Uj4OpWIlC63VH0C5SM/A+g77g7l37733+rKFMsWotD/yxgJtkzXXMDApN0oBSBu5ST1p/9tJqqKgoamIHQJDR2BVI7CtYWMneKEwqEzsEBkEOQMLwlPPaHjSsg5BYRAW7uUTxqURaUwaNY+8emExsESkDM0lXPZhUTAgqA9lx6XQmNiGmjbDishq07BeDEDSyjuUpxpYgbWkMAlBqZmwsAnTnLzoDyYpbRhCWrQXghYrkHFjk67IGOYe8x0z0dO2KbdtzEOhAbG8DSY2aZPnq6++Wh7jIdSJuqWNOcpD+sm2Ih8EMKs0DCw7AwP4i8I3+M64wmJOQvm4bvWmXcwfbgKcaz/+8Y+b1D+rP0xgU0dWDcDJf9Ca/UEY8sgMWfJBkYSkyZSkUqikP4wiYyGL0aNH+2c2lPmVV17J7M9akqooKASuDZZuVI5PePJUHigMGjrU4EnCFQID7/nnny83Lr5IG0B0FsuuZMMnKXLMZLX1ioEy6Nixoz8XARgIwEMwznkGrCmrcxoffPBB2XrgPny2SeFTC2h/rCLbkhthYZO3pWFMMDaaSzgmQig74+OLX/xiE0VapK8ZUwhErEhWcaz4mNAh3EOZk0IDsvIGrEaEBpYz/YigYiyEcwKBg+VK3dJgLBAnKZgAAcwYY0wlxwiGitWZ+mMEJEHQsk8W/U49AEFKepSZtg6NHRvDRlZ/0F5vvvmmrxfp2nhvzf4gDsLbxjcHTP31r3/NnI9cIyxJpf1RZCxkEXoZaJt27dr568n+qDWZridcFKErgg+VjAk6o9qHKnQsjY4m7du3r19x5FE0z2rqFYOOo8yPPPJI+aEsAyocELbcNIoot9sFg9vag8GO67AWysIET3OPEbWVmFmFBoIEgfWPf/zDP+MJy9ycvmbMhavikCxLMitvxiJ5h+dTkG5SMDXmHHbEvVjd5pYNwY1j7hOz/oH/cX1YvfmbdDeiJHAPYQWHQo0yMnbJl7Ij7BHsGHW0T0hWf5A2xtLbb7/9qYfRrdUfEI5v2uizn/1s6ssTQDzaNSlTKumPomMhDeYIcc3LAHgYiiqZliRVUZjmZDBVApVCa+IvrATiYxmgSWlQs3jSIA/yCgcyDcy15OtsefVi4JiVxCBkoNsZu0Xh7QUUG/ngS71+/bofEFzDogqXv0xEBl7egEEJUQ6bGAxErJRakTWBWgKEI21jK6ei0EZJ/zTtwXKcNsSvDDbmmjuGEXAI2DSjJM2SjOVtY9Hytr4OVw52La//SQvFGo5lBCJl/e1vf+vnBumErphwNU8ZwhVFqCTMHWjwPXQRMs4QrMn7IK0/mDekz9x9+eWXvaC3NmjN/khCvZjn5hZLwhxNyhSjuf1RZCxkQT3pS9KibfmgpEJvzO0i9a0nnqZTSBre3lAI3wT4whe+4K19ntYzKAD/HJUinKfw+KVZ6tFAxKWyXCMsvDcLhCrWOZZJ2GE0NNftjSZOH0sekk6ZeDvgG9/4RpO8//73v0frRePzVgVvoTz22GPu97//va/rwYMHfblj4HYiLg/EXnvtNb9E5I2ff/7znz5tysTbRk899ZR/owmrizL/7Gc/8/GpF8vzP/7xj+W3GQzyRgHRnpQX5fPee+/5sFgbGgxkLEPyxJLC/0sd7e0nJk74xhNtyhKd9qoW2uDhhx8up80kCw/Mbw4YDfbmCRMZFwLC6Cc/+YlvM6wt3r6jP3lTJNbXtDeuABufuDJ++ctfpholljaTlDRR0rG86X/G21e/+lWfPu2Obz203ufPn+/HCG/DJPs7hL5HsPDhLRn6knFAeoxP+o83l2hn+vOdd97x+WFkUS/KyNi0ufrtb3/bl5WVurVJOBaaQ9gfxGcVCj//+c99nciXcvGWz69//etW6w/GWvi2FfPnhz/8YbndkzKFeZiUKUZz++MPf/hDdCyEc5O5gdyiDLytRVzqZzKJ8qWd0ng7qNttxhHudgh/2GE0LAOkUmEj2jYoNd4u47cItxOsudY6MQ9Bhmtj+/bt0dV1a6D+qK/+qBV1qShsELDESmpPKQohhLi9ZD7Mbg1QELxxw4H1LGtbY4klhBCiKTrhTgghRJS6WlEIIYSoP6QohBBCRJGiEEIIEUWKQgghRBQpCiGEEFGkKIQQQkSRohBCCBFFikIIIUQUKQohhBBRpCiEEEJEkaIQQggRRYpCCCFEFCkKIYQQUaQohBBCRJGiEEIIEUWKQgghRBQpCiGEEFGkKIQQQkSRohBCCBFFikIIIUQUKQrRokyaNMm99NJLbvjw4aUrbZsFCxa4DRs2uJkzZ5auCHH3IUUh7lr69+/vVqxYISUgRA5SFEJEWLNmjZs9e7bbvHlz6YoQdx/tGhoaPi79L0RFYJFPmTKl9M25q1evurVr17rDhw/777hvRo4c6f9PhkEy/oEDB7yAxuJfuHCh279/vxs6dKgbOHCgu3nzptuyZYs7c+aMmzdvntuzZ09ZiOPusmt79+518+fPdwcPHnQTJkxwnTt3bpL30qVLfXpJLG9Li3iW586dO0t3fUKYRngPcWfNmuXLPXHiRNe+fXt3/vx5t2rVKnf69Gl/vxBtCa0oRFXwTAJBvGnTJm958xehaaAEBg8e7FauXOnDjx8/7oUoSsDCEaYWnw+COgQlcuHCBR+Gghg3bpwX9ufOnfMKxLDnIqaEOnTo4NPetm2bj8v9M2bM8GHLli1zS5Ys8QJ8x44dn8qbNFBwlBsFk4SwLl26+DSId+jQITdt2rRyGTp16uTbZfXq1T4Nvo8fP96HCdHWkKIQVYHQRvgnrW0DQY6Fb8J79+7dXoAPGzbMK4sxY8Z4IZsVH06ePFkW4EePHvUCmrj79u1z3bt3Lwtn8qIslhfs2rWrnHYYtxrID+XHisFWCFu3bnXXrl0rlwVliYKiLHxQUn369PFhQrQ12pf+fgosRawvls2QdBkk3QXJpXVyaW9Leqhl2uau6NWrl/8OWIzmnsjLu5Zpx+pVy7ShmnrlpZ0F6SKYiRvGtxUHQh5L++zZs/57Fgh4gzJZuYB2MeFMXrh/YpAf+eaVPQ/qcPHixdK35nMnjmGI5d2aYzgvbxFHzyhEVTB5cQuFwmDq1Klu/fr17tKlS37yYnnbhA2xyV1pOOAC6tmzp1cmrChwKUFaXAQRK5ikco6ljxKaM2eO2759e3llwrXY8xGETzJOsp2EaEvI9SSqAuE3YMAAL3QRlvjpzWpDGJ86dcr76s3qD8kLLwKuLFYIY8eO9a6oLEiffMjPLFT+XrlypclzjiKgCHAloXSoNzQ2NnrXEw/RhbjT0IpCVIVZ5Sz5ccfwTAABunHjxvKyPnzrCZIuhWS4uRSKWPyAtY7bKUwzLJcRuioMWwnwdhPYPUk3CFC/8O2n0BUSujJIUysKcSchRSHaPGlCuKiSEULkI9eTaNNg+ffu3du7oIQQtUGKQrRJUBDswWS/k9DbK0LUDrmehBBCRNGKQgghRBQpCiGEEFGkKIQQQkSRohBCCBGlsKLgXXV+GHU3wXYU9XpaWyX9wf23+7Q28qSsMfjNAwcI5d13t0Hb8duQehx/4u7ijlxRIAgRPAgg0fZBYa9bty5TkXCdcO5LgpBF2KaNBwtDefJJKl57BZdPVvpZebdE2kLUC3I93UUguDg7oV5/qcyvq5MgYBGi7K2UxITxhx9+6K5fv166eguEMdtz/Otf/ypduQVKg3Mx2JacNuE8jBEjRpRXW+QZnrORPG8ilne1aYewfxSbKwrRmmT+joLBHtsrh0GdtkeOkYwf7oWDFWZCwfb4sS2BEQxsMpfcC8iucfgLm7gR3+Ja3kzAcCthI8w7WS7OOrAdR4HJHO7xU3Q7YqtTWhvYNhLJ8oV5ky97JLH76FNPPeXvCcPz+iNG2FfJ/YoM2jjcbyncorkaSJfdXcH2RSqaNu312GOPuRdffLG8mgj76gc/+IH705/+5P9H0PLDu3CHV9qaXWynT5/+qTFFeyOsw74N80jmZ21oO8bG8q42bSHqjcwVBZuasbMmFg8fhJaB0AotJk7w4iAXs5hMqIXxERihsEUoIUAIQ+DZTpzHjh3zZwZwsA1wjUke7vqJwLG4WGXkjVBhos6dO9cLIjaes9PHwrzDehHOZnKEQ9LS46+dnZAHSsIEYhoIAwQKm+aRNm3G1hOWN6AEJk+e7E9FI2/CKRPE+iMP6k4+Wae1kcegQYN8uKXfkgKL/qJ9SJe+oY1pjzzoT5REFoQlFZ5BnRHENmaScIgQqxQbF7QP5WQ8jBo1yv+1czBsvKNo7fChWN7Vpi1EvZGqKBAcbN2cdQgMQvzGjRv+VC9gQqA0bLtmrH6EfewQGQQ51h6gHDj1jDyZfEyyIUOG+DDyIizcyyeMe+TIEb8879Gjh/8eA+HEJLVyIUSw9m2b7LzT2mKEh+9gMSIcqA9l54CbxsQ21LQZFqTlDSgl244irFdef7QECKoiwrsSUGq28jHhWau8mgvGDc8J6IdXX33V91fXrl1LoZ/05fLly72hgkETMwaS1DJtIW4nFT2jQHj17dvXD3J7IBe6LbCM8nyr4QoBwfz888+XhQjWlglQFMaJEyfKYVkUscb69evnunXr5hYtWlQud3Ir6UpBGXTs2NGfiwAIBUChcs4zsCLIsnDhgw8+8AoCuG/x4sW3xRVB+7PSoS1ok1q+CMCYYGzUA1j5rGRZWdLWGDf01+XLl3047WErIRQdgpzvRahl2kLcbip+mB26duxjPte8oy3zQCkgaEePHu0VEiuOPIrmiesldLHwYSLHBHgRUAaU+ZFHHilPeKxmhIMpTFYzoQCuJ1cDCsnaA4WG67AWyiJcZbUmjBfGAudmWN/TH9T9L3/5i/8broRoC/qvyDirZdpCtAapigKhx8NUcw+Yj9VAkGMh8ZAwjbzwPIjPKgJ/PZMq5goiD/IKVxwIIa7Zcw4Dax3BzUPONBDwtpKh7jxTSD4YzwPXAoqNfHDF8UYMwoJrrGZwywHpJw/ozyKvP1qaWlq2jY2Nvm1s5dRa2HixsWD9Yc8O+Esb23M3c6eG4yyLWqYtRGuQ+dYTg9jcMlg/JjzMCmLwh289Qfg2SzI8fHsI3yzpWVpp4JdnouESCd0vYbkgTDcEYWrusPAelEDW20NhWNZpbVlYXODtGpQU5efVR6un1cmUT/jWEvUir/DNnJC8/oiRbDMI334K2wqy2rQSkmknT7eLkTbGgPqzek2mDVYvFFGynyHMP5l+8m2ssN2SbRLLmzatJm0h6o263WYcoWqH9IcTKE+gCiGEaFkqfkZRS7DOURRFHmILIYSoLXWlKFAQvHHD21Q8myjiVhFCCFFbdMKdEEKIKHXpehJCCFE/SFEIIYSIIkUhhBAiihSFEEKIKFIUQgghokhRCCGEiCJFIYQQIoJz/wdv7m7gKrmC+gAAAABJRU5ErkJggg==)"
      ],
      "metadata": {
        "id": "hiORYSelqbEq"
      }
    },
    {
      "cell_type": "markdown",
      "source": [
        "## **References**\n",
        "\n",
        "\n",
        "1.   https://www.programiz.com/python-programming/docstrings#:~:text=As%20mentioned%20above%2C%20Python%20docstrings%20are%20strings%20used,can%20access%20these%20docstrings%20using%20the%20__doc__%20attribute.\n",
        "2.   https://pypi.org/project/base32hex/\n",
        "3. https://stackoverflow.com/questions/59925060/des-encryption-in-python\n",
        "4. https://www.geeksforgeeks.org/base64-b32decode-in-python/\n",
        "5. https://stackoverflow.com/questions/19623267/importerror-no-module-named-crypto-cipher\n",
        "6. https://stackoverflow.com/questions/7585307/how-to-correct-typeerror-unicode-objects-must-be-encoded-before-hashing\n",
        "7. https://techblogs.42gears.com/encrypt-and-decrypt-a-message-using-des-algorithm-in-python/\n",
        "\n"
      ],
      "metadata": {
        "id": "fSErcGgBn7uc"
      }
    }
  ]
}